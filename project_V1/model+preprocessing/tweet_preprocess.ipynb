{
 "cells": [
  {
   "cell_type": "code",
   "execution_count": 47,
   "metadata": {},
   "outputs": [],
   "source": [
    "import pandas as pd\n",
    "import re"
   ]
  },
  {
   "cell_type": "code",
   "execution_count": 48,
   "metadata": {},
   "outputs": [],
   "source": [
    "t=[\"@ pappu feel like ending my  life 😐 😐 \", \"i am diagnosed with depression #depression:) :)\", \"it's all over for me \"]"
   ]
  },
  {
   "cell_type": "code",
   "execution_count": 49,
   "metadata": {},
   "outputs": [],
   "source": [
    "df = pd.DataFrame()"
   ]
  },
  {
   "cell_type": "code",
   "execution_count": 50,
   "metadata": {},
   "outputs": [],
   "source": [
    "df['tweets']=t"
   ]
  },
  {
   "cell_type": "code",
   "execution_count": 51,
   "metadata": {},
   "outputs": [],
   "source": [
    "# comment"
   ]
  },
  {
   "cell_type": "code",
   "execution_count": 52,
   "metadata": {},
   "outputs": [],
   "source": [
    "def remove_non_ascii(dff):\n",
    "    #s2 = str(df) \n",
    "    s2 = dff.str.replace(\"[^\\\\x00-\\\\x7F]\", \"abcde\")\n",
    "    return s2\n",
    "df['tweets']=remove_non_ascii(df['tweets'])"
   ]
  },
  {
   "cell_type": "code",
   "execution_count": 53,
   "metadata": {},
   "outputs": [],
   "source": [
    "def remove_newline(dff):\n",
    "     #s2 = str(df) \n",
    "     s2= dff.str.replace(\"\\r\\n\", \" \")\n",
    "     return s2\n",
    "df['tweets']=remove_newline(df['tweets'])   \n",
    "   "
   ]
  },
  {
   "cell_type": "code",
   "execution_count": 54,
   "metadata": {},
   "outputs": [],
   "source": [
    "def remove_punctuation(df):\n",
    "    #s2 = str(df) \n",
    "    s2=df.str.replace('[^\\w\\s]',' ')\n",
    "    return s2\n",
    "df['tweets']=remove_punctuation(df['tweets'])   "
   ]
  },
  {
   "cell_type": "code",
   "execution_count": 55,
   "metadata": {},
   "outputs": [],
   "source": [
    "# Creating a function remove_unwanted_spaces() to remove all unwanted spaces\n",
    "def remove_unwanted_spaces(df):\n",
    "    df= re.sub('\\s+',' ',df)\n",
    "    df=df.strip() # the strip() function removes any trailing spaces from the begining snd the end of the text\n",
    "    return s\n",
    "df['tweets']=remove_punctuation(df['tweets'])  "
   ]
  },
  {
   "cell_type": "code",
   "execution_count": 56,
   "metadata": {},
   "outputs": [],
   "source": [
    "\n",
    "tweets=[]\n"
   ]
  },
  {
   "cell_type": "code",
   "execution_count": 57,
   "metadata": {},
   "outputs": [],
   "source": [
    "\n",
    "\n",
    "\n",
    "def remove_emoticon_replacement(df):\n",
    "    j=0\n",
    "    for i in range(len(df['tweets'])):\n",
    "        x = re.search(\"(abcde)\",df.loc[i]['tweets'])\n",
    "        if (x):\n",
    "           j=j+1 \n",
    "        else:\n",
    "            tweets.append(df.loc[i]['tweets'])\n",
    "       \n",
    "remove_emoticon_replacement(df)                                 "
   ]
  },
  {
   "cell_type": "code",
   "execution_count": null,
   "metadata": {},
   "outputs": [],
   "source": [
    "\n"
   ]
  },
  {
   "cell_type": "code",
   "execution_count": null,
   "metadata": {},
   "outputs": [],
   "source": []
  },
  {
   "cell_type": "code",
   "execution_count": 58,
   "metadata": {},
   "outputs": [],
   "source": [
    "df_processed = pd.DataFrame()\n",
    "df_processed['tweets'] = tweets"
   ]
  },
  {
   "cell_type": "code",
   "execution_count": 59,
   "metadata": {},
   "outputs": [],
   "source": [
    "def remove_link_username_hastags(tw):        \n",
    "    tw = re.sub('((www\\.[^\\s]+)|(https?://[^\\s]+))', 'URL', tw) # remove URLs\n",
    "    tw = re.sub('@[^\\s]+', ' ', tw) # remove usernames\n",
    "    tw = re.sub(r'#([^\\s]+)', r'\\1', tw) # remove the # in #hashtag\n",
    "    return tw\n",
    "\n",
    "\n",
    "for i in range(len(df_processed['tweets'])):\n",
    "    \n",
    "    df_processed.loc[i]['tweets'] = remove_link_username_hastags(df_processed.loc[i]['tweets'])"
   ]
  },
  {
   "cell_type": "code",
   "execution_count": 60,
   "metadata": {},
   "outputs": [
    {
     "data": {
      "text/plain": [
       "0    i am diagnosed with depression  depression     \n",
       "1                              it s all over for me \n",
       "Name: tweets, dtype: object"
      ]
     },
     "execution_count": 60,
     "metadata": {},
     "output_type": "execute_result"
    }
   ],
   "source": [
    "df_processed['tweets']"
   ]
  },
  {
   "cell_type": "code",
   "execution_count": null,
   "metadata": {},
   "outputs": [],
   "source": []
  },
  {
   "cell_type": "code",
   "execution_count": null,
   "metadata": {},
   "outputs": [],
   "source": []
  }
 ],
 "metadata": {
  "kernelspec": {
   "display_name": "Python 3",
   "language": "python",
   "name": "python3"
  },
  "language_info": {
   "codemirror_mode": {
    "name": "ipython",
    "version": 3
   },
   "file_extension": ".py",
   "mimetype": "text/x-python",
   "name": "python",
   "nbconvert_exporter": "python",
   "pygments_lexer": "ipython3",
   "version": "3.7.1"
  }
 },
 "nbformat": 4,
 "nbformat_minor": 2
}

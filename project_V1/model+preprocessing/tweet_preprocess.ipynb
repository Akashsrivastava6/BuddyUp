{
 "cells": [
  {
   "cell_type": "code",
   "execution_count": 1,
   "metadata": {},
   "outputs": [],
   "source": [
    "import pandas as pd\n",
    "import re"
   ]
  },
  {
   "cell_type": "code",
   "execution_count": 2,
   "metadata": {},
   "outputs": [],
   "source": [
    "t=[\"feel like ending my  life 😐 😐 \", \"i am diagnosed with depression :) :)\", \"it's all over for me\"]"
   ]
  },
  {
   "cell_type": "code",
   "execution_count": 3,
   "metadata": {},
   "outputs": [],
   "source": [
    "df = pd.DataFrame()"
   ]
  },
  {
   "cell_type": "code",
   "execution_count": 4,
   "metadata": {},
   "outputs": [],
   "source": [
    "df['tweets']=t"
   ]
  },
  {
   "cell_type": "code",
   "execution_count": 5,
   "metadata": {},
   "outputs": [
    {
     "data": {
      "text/html": [
       "<div>\n",
       "<style scoped>\n",
       "    .dataframe tbody tr th:only-of-type {\n",
       "        vertical-align: middle;\n",
       "    }\n",
       "\n",
       "    .dataframe tbody tr th {\n",
       "        vertical-align: top;\n",
       "    }\n",
       "\n",
       "    .dataframe thead th {\n",
       "        text-align: right;\n",
       "    }\n",
       "</style>\n",
       "<table border=\"1\" class=\"dataframe\">\n",
       "  <thead>\n",
       "    <tr style=\"text-align: right;\">\n",
       "      <th></th>\n",
       "      <th>tweets</th>\n",
       "    </tr>\n",
       "  </thead>\n",
       "  <tbody>\n",
       "    <tr>\n",
       "      <th>0</th>\n",
       "      <td>feel like ending my  life 😐 😐</td>\n",
       "    </tr>\n",
       "    <tr>\n",
       "      <th>1</th>\n",
       "      <td>i am diagnosed with depression :) :)</td>\n",
       "    </tr>\n",
       "    <tr>\n",
       "      <th>2</th>\n",
       "      <td>it's all over for me</td>\n",
       "    </tr>\n",
       "  </tbody>\n",
       "</table>\n",
       "</div>"
      ],
      "text/plain": [
       "                                 tweets\n",
       "0        feel like ending my  life 😐 😐 \n",
       "1  i am diagnosed with depression :) :)\n",
       "2                  it's all over for me"
      ]
     },
     "execution_count": 5,
     "metadata": {},
     "output_type": "execute_result"
    }
   ],
   "source": [
    "df"
   ]
  },
  {
   "cell_type": "code",
   "execution_count": 6,
   "metadata": {},
   "outputs": [],
   "source": [
    "def remove_non_ascii(dff):\n",
    "    #s2 = str(df) \n",
    "    s2 = dff.str.replace(\"[^\\\\x00-\\\\x7F]\", \"abcde\")\n",
    "    return s2\n",
    "df['tweets']=remove_non_ascii(df['tweets'])"
   ]
  },
  {
   "cell_type": "code",
   "execution_count": 7,
   "metadata": {},
   "outputs": [],
   "source": [
    "def remove_newline(dff):\n",
    "     #s2 = str(df) \n",
    "     s2= dff.str.replace(\"\\r\\n\", \" \")\n",
    "     return s2\n",
    "df['tweets']=remove_newline(df['tweets'])   \n",
    "   "
   ]
  },
  {
   "cell_type": "code",
   "execution_count": 8,
   "metadata": {},
   "outputs": [],
   "source": [
    "def remove_punctuation(df):\n",
    "    #s2 = str(df) \n",
    "    s2=df.str.replace('[^\\w\\s]',' ')\n",
    "    return s2\n",
    "df['tweets']=remove_punctuation(df['tweets'])   "
   ]
  },
  {
   "cell_type": "code",
   "execution_count": 9,
   "metadata": {},
   "outputs": [],
   "source": [
    "# Creating a function remove_unwanted_spaces() to remove all unwanted spaces\n",
    "def remove_unwanted_spaces(df):\n",
    "    df= re.sub('\\s+',' ',df)\n",
    "    df=df.strip() # the strip() function removes any trailing spaces from the begining snd the end of the text\n",
    "    return s\n",
    "df['tweets']=remove_punctuation(df['tweets'])  "
   ]
  },
  {
   "cell_type": "code",
   "execution_count": 10,
   "metadata": {},
   "outputs": [],
   "source": [
    "\n",
    "tweets=[]\n"
   ]
  },
  {
   "cell_type": "code",
   "execution_count": 11,
   "metadata": {},
   "outputs": [],
   "source": [
    "\n",
    "\n",
    "\n",
    "def remove_emoticon_replacement(df):\n",
    "    j=0\n",
    "    for i in range(len(df['tweets'])):\n",
    "        x = re.search(\"(abcde)\",df.loc[i]['tweets'])\n",
    "        if (x):\n",
    "           j=j+1 \n",
    "        else:\n",
    "            tweets.append(df.loc[i]['tweets'])\n",
    "       \n",
    "remove_emoticon_replacement(df)                                 "
   ]
  },
  {
   "cell_type": "code",
   "execution_count": 14,
   "metadata": {},
   "outputs": [],
   "source": [
    "df_processed = pd.DataFrame()\n",
    "df_processed['tweets'] = tweets"
   ]
  },
  {
   "cell_type": "code",
   "execution_count": 19,
   "metadata": {},
   "outputs": [
    {
     "data": {
      "text/plain": [
       "0    i am diagnosed with depression      \n",
       "1                    it s all over for me\n",
       "Name: tweets, dtype: object"
      ]
     },
     "execution_count": 19,
     "metadata": {},
     "output_type": "execute_result"
    }
   ],
   "source": [
    "df_processed['tweets']"
   ]
  },
  {
   "cell_type": "code",
   "execution_count": null,
   "metadata": {},
   "outputs": [],
   "source": []
  }
 ],
 "metadata": {
  "kernelspec": {
   "display_name": "Python 3",
   "language": "python",
   "name": "python3"
  },
  "language_info": {
   "codemirror_mode": {
    "name": "ipython",
    "version": 3
   },
   "file_extension": ".py",
   "mimetype": "text/x-python",
   "name": "python",
   "nbconvert_exporter": "python",
   "pygments_lexer": "ipython3",
   "version": "3.7.1"
  }
 },
 "nbformat": 4,
 "nbformat_minor": 2
}
